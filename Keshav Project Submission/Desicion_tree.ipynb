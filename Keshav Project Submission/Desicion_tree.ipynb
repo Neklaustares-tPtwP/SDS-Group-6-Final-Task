{
  "nbformat": 4,
  "nbformat_minor": 0,
  "metadata": {
    "colab": {
      "name": "Desicion_tree.ipynb",
      "provenance": [],
      "collapsed_sections": []
    },
    "kernelspec": {
      "name": "python3",
      "display_name": "Python 3"
    },
    "language_info": {
      "name": "python"
    }
  },
  "cells": [
    {
      "cell_type": "markdown",
      "metadata": {
        "id": "k_O28k_8piSQ"
      },
      "source": [
        "# Importing all the required libraries"
      ]
    },
    {
      "cell_type": "code",
      "metadata": {
        "id": "x2Uyj1BxUqyV"
      },
      "source": [
        "\n",
        "import numpy as np\n",
        "import requests\n",
        "import io\n",
        "import pandas as pd\n",
        "from sklearn.model_selection import train_test_split\n",
        "from sklearn.tree import DecisionTreeClassifier\n",
        "from sklearn.metrics import accuracy_score\n",
        "from sklearn.metrics import confusion_matrix\n",
        "from sklearn.metrics import classification_report\n",
        "import matplotlib.pyplot as plt\n",
        "from sklearn.preprocessing import LabelEncoder\n"
      ],
      "execution_count": 126,
      "outputs": []
    },
    {
      "cell_type": "markdown",
      "metadata": {
        "id": "lo0F0NbTpqRO"
      },
      "source": [
        "**Reading the Balance-Scale Dataset** "
      ]
    },
    {
      "cell_type": "code",
      "metadata": {
        "colab": {
          "base_uri": "https://localhost:8080/",
          "height": 363
        },
        "id": "qWmOtWYL5m85",
        "outputId": "962eceef-8bd1-41ed-a8ad-a8c80c462c61"
      },
      "source": [
        "df = pd.read_csv(r\"/content/balance-scale.data\")\n",
        "df.head(10)"
      ],
      "execution_count": 127,
      "outputs": [
        {
          "output_type": "execute_result",
          "data": {
            "text/html": [
              "<div>\n",
              "<style scoped>\n",
              "    .dataframe tbody tr th:only-of-type {\n",
              "        vertical-align: middle;\n",
              "    }\n",
              "\n",
              "    .dataframe tbody tr th {\n",
              "        vertical-align: top;\n",
              "    }\n",
              "\n",
              "    .dataframe thead th {\n",
              "        text-align: right;\n",
              "    }\n",
              "</style>\n",
              "<table border=\"1\" class=\"dataframe\">\n",
              "  <thead>\n",
              "    <tr style=\"text-align: right;\">\n",
              "      <th></th>\n",
              "      <th>B</th>\n",
              "      <th>1</th>\n",
              "      <th>1.1</th>\n",
              "      <th>1.2</th>\n",
              "      <th>1.3</th>\n",
              "    </tr>\n",
              "  </thead>\n",
              "  <tbody>\n",
              "    <tr>\n",
              "      <th>0</th>\n",
              "      <td>R</td>\n",
              "      <td>1</td>\n",
              "      <td>1</td>\n",
              "      <td>1</td>\n",
              "      <td>2</td>\n",
              "    </tr>\n",
              "    <tr>\n",
              "      <th>1</th>\n",
              "      <td>R</td>\n",
              "      <td>1</td>\n",
              "      <td>1</td>\n",
              "      <td>1</td>\n",
              "      <td>3</td>\n",
              "    </tr>\n",
              "    <tr>\n",
              "      <th>2</th>\n",
              "      <td>R</td>\n",
              "      <td>1</td>\n",
              "      <td>1</td>\n",
              "      <td>1</td>\n",
              "      <td>4</td>\n",
              "    </tr>\n",
              "    <tr>\n",
              "      <th>3</th>\n",
              "      <td>R</td>\n",
              "      <td>1</td>\n",
              "      <td>1</td>\n",
              "      <td>1</td>\n",
              "      <td>5</td>\n",
              "    </tr>\n",
              "    <tr>\n",
              "      <th>4</th>\n",
              "      <td>R</td>\n",
              "      <td>1</td>\n",
              "      <td>1</td>\n",
              "      <td>2</td>\n",
              "      <td>1</td>\n",
              "    </tr>\n",
              "    <tr>\n",
              "      <th>5</th>\n",
              "      <td>R</td>\n",
              "      <td>1</td>\n",
              "      <td>1</td>\n",
              "      <td>2</td>\n",
              "      <td>2</td>\n",
              "    </tr>\n",
              "    <tr>\n",
              "      <th>6</th>\n",
              "      <td>R</td>\n",
              "      <td>1</td>\n",
              "      <td>1</td>\n",
              "      <td>2</td>\n",
              "      <td>3</td>\n",
              "    </tr>\n",
              "    <tr>\n",
              "      <th>7</th>\n",
              "      <td>R</td>\n",
              "      <td>1</td>\n",
              "      <td>1</td>\n",
              "      <td>2</td>\n",
              "      <td>4</td>\n",
              "    </tr>\n",
              "    <tr>\n",
              "      <th>8</th>\n",
              "      <td>R</td>\n",
              "      <td>1</td>\n",
              "      <td>1</td>\n",
              "      <td>2</td>\n",
              "      <td>5</td>\n",
              "    </tr>\n",
              "    <tr>\n",
              "      <th>9</th>\n",
              "      <td>R</td>\n",
              "      <td>1</td>\n",
              "      <td>1</td>\n",
              "      <td>3</td>\n",
              "      <td>1</td>\n",
              "    </tr>\n",
              "  </tbody>\n",
              "</table>\n",
              "</div>"
            ],
            "text/plain": [
              "   B  1  1.1  1.2  1.3\n",
              "0  R  1    1    1    2\n",
              "1  R  1    1    1    3\n",
              "2  R  1    1    1    4\n",
              "3  R  1    1    1    5\n",
              "4  R  1    1    2    1\n",
              "5  R  1    1    2    2\n",
              "6  R  1    1    2    3\n",
              "7  R  1    1    2    4\n",
              "8  R  1    1    2    5\n",
              "9  R  1    1    3    1"
            ]
          },
          "metadata": {},
          "execution_count": 127
        }
      ]
    },
    {
      "cell_type": "markdown",
      "metadata": {
        "id": "2g8K332OpxuW"
      },
      "source": [
        "**Checking if any null value exists and if it does then replacing it**"
      ]
    },
    {
      "cell_type": "code",
      "metadata": {
        "colab": {
          "base_uri": "https://localhost:8080/"
        },
        "id": "7rpnrXJlpZtx",
        "outputId": "26997fe9-a969-43c5-f63a-5db033fb38dc"
      },
      "source": [
        "df.info()"
      ],
      "execution_count": 128,
      "outputs": [
        {
          "output_type": "stream",
          "name": "stdout",
          "text": [
            "<class 'pandas.core.frame.DataFrame'>\n",
            "RangeIndex: 624 entries, 0 to 623\n",
            "Data columns (total 5 columns):\n",
            " #   Column  Non-Null Count  Dtype \n",
            "---  ------  --------------  ----- \n",
            " 0   B       624 non-null    object\n",
            " 1   1       624 non-null    int64 \n",
            " 2   1.1     624 non-null    int64 \n",
            " 3   1.2     624 non-null    int64 \n",
            " 4   1.3     624 non-null    int64 \n",
            "dtypes: int64(4), object(1)\n",
            "memory usage: 24.5+ KB\n"
          ]
        }
      ]
    },
    {
      "cell_type": "markdown",
      "metadata": {
        "id": "nV8As-Ta2bAa"
      },
      "source": [
        "**Since no Null value exists, replacing isn't required.. moving further**\n",
        "\n",
        "**Lets Replace the name of the columns for better understanding of the data.**\n"
      ]
    },
    {
      "cell_type": "code",
      "metadata": {
        "colab": {
          "base_uri": "https://localhost:8080/",
          "height": 424
        },
        "id": "eoBXf-wCsp4A",
        "outputId": "d98707fa-cfd1-4432-a340-37e1c5853766"
      },
      "source": [
        "df = df.rename(columns = {'B': 'Class', '1': 'LeftWeight','1.1':'LeftDistance','1.2':'RightWeight','1.3':'RightDistance'}, inplace = False)\n",
        "df"
      ],
      "execution_count": 129,
      "outputs": [
        {
          "output_type": "execute_result",
          "data": {
            "text/html": [
              "<div>\n",
              "<style scoped>\n",
              "    .dataframe tbody tr th:only-of-type {\n",
              "        vertical-align: middle;\n",
              "    }\n",
              "\n",
              "    .dataframe tbody tr th {\n",
              "        vertical-align: top;\n",
              "    }\n",
              "\n",
              "    .dataframe thead th {\n",
              "        text-align: right;\n",
              "    }\n",
              "</style>\n",
              "<table border=\"1\" class=\"dataframe\">\n",
              "  <thead>\n",
              "    <tr style=\"text-align: right;\">\n",
              "      <th></th>\n",
              "      <th>Class</th>\n",
              "      <th>LeftWeight</th>\n",
              "      <th>LeftDistance</th>\n",
              "      <th>RightWeight</th>\n",
              "      <th>RightDistance</th>\n",
              "    </tr>\n",
              "  </thead>\n",
              "  <tbody>\n",
              "    <tr>\n",
              "      <th>0</th>\n",
              "      <td>R</td>\n",
              "      <td>1</td>\n",
              "      <td>1</td>\n",
              "      <td>1</td>\n",
              "      <td>2</td>\n",
              "    </tr>\n",
              "    <tr>\n",
              "      <th>1</th>\n",
              "      <td>R</td>\n",
              "      <td>1</td>\n",
              "      <td>1</td>\n",
              "      <td>1</td>\n",
              "      <td>3</td>\n",
              "    </tr>\n",
              "    <tr>\n",
              "      <th>2</th>\n",
              "      <td>R</td>\n",
              "      <td>1</td>\n",
              "      <td>1</td>\n",
              "      <td>1</td>\n",
              "      <td>4</td>\n",
              "    </tr>\n",
              "    <tr>\n",
              "      <th>3</th>\n",
              "      <td>R</td>\n",
              "      <td>1</td>\n",
              "      <td>1</td>\n",
              "      <td>1</td>\n",
              "      <td>5</td>\n",
              "    </tr>\n",
              "    <tr>\n",
              "      <th>4</th>\n",
              "      <td>R</td>\n",
              "      <td>1</td>\n",
              "      <td>1</td>\n",
              "      <td>2</td>\n",
              "      <td>1</td>\n",
              "    </tr>\n",
              "    <tr>\n",
              "      <th>...</th>\n",
              "      <td>...</td>\n",
              "      <td>...</td>\n",
              "      <td>...</td>\n",
              "      <td>...</td>\n",
              "      <td>...</td>\n",
              "    </tr>\n",
              "    <tr>\n",
              "      <th>619</th>\n",
              "      <td>L</td>\n",
              "      <td>5</td>\n",
              "      <td>5</td>\n",
              "      <td>5</td>\n",
              "      <td>1</td>\n",
              "    </tr>\n",
              "    <tr>\n",
              "      <th>620</th>\n",
              "      <td>L</td>\n",
              "      <td>5</td>\n",
              "      <td>5</td>\n",
              "      <td>5</td>\n",
              "      <td>2</td>\n",
              "    </tr>\n",
              "    <tr>\n",
              "      <th>621</th>\n",
              "      <td>L</td>\n",
              "      <td>5</td>\n",
              "      <td>5</td>\n",
              "      <td>5</td>\n",
              "      <td>3</td>\n",
              "    </tr>\n",
              "    <tr>\n",
              "      <th>622</th>\n",
              "      <td>L</td>\n",
              "      <td>5</td>\n",
              "      <td>5</td>\n",
              "      <td>5</td>\n",
              "      <td>4</td>\n",
              "    </tr>\n",
              "    <tr>\n",
              "      <th>623</th>\n",
              "      <td>B</td>\n",
              "      <td>5</td>\n",
              "      <td>5</td>\n",
              "      <td>5</td>\n",
              "      <td>5</td>\n",
              "    </tr>\n",
              "  </tbody>\n",
              "</table>\n",
              "<p>624 rows × 5 columns</p>\n",
              "</div>"
            ],
            "text/plain": [
              "    Class  LeftWeight  LeftDistance  RightWeight  RightDistance\n",
              "0       R           1             1            1              2\n",
              "1       R           1             1            1              3\n",
              "2       R           1             1            1              4\n",
              "3       R           1             1            1              5\n",
              "4       R           1             1            2              1\n",
              "..    ...         ...           ...          ...            ...\n",
              "619     L           5             5            5              1\n",
              "620     L           5             5            5              2\n",
              "621     L           5             5            5              3\n",
              "622     L           5             5            5              4\n",
              "623     B           5             5            5              5\n",
              "\n",
              "[624 rows x 5 columns]"
            ]
          },
          "metadata": {},
          "execution_count": 129
        }
      ]
    },
    {
      "cell_type": "markdown",
      "metadata": {
        "id": "l_paf1QS2uAB"
      },
      "source": [
        "Seperating features as X and target value as y : \n",
        "- 'Class' in Y\n",
        "- 'LeftWeight', 'RightWeight', 'LeftDistance', 'RightDistance' in X\n",
        "\n",
        "Spliting the X and Y in four DataFrame :\n",
        "train_X, test_X, train_Y and test_Y using train_test_split\n",
        "\n",
        "and keeping the test_size as 150 to check value for 150 values for better precision of the data."
      ]
    },
    {
      "cell_type": "code",
      "metadata": {
        "id": "-pRWE442pTNu"
      },
      "source": [
        "X=df[['LeftWeight','LeftDistance','RightWeight', 'RightDistance']].copy()\n",
        "Y=df[['Class']]\n",
        "train_X, test_X, train_Y, test_Y = train_test_split(X, Y, test_size = 150)"
      ],
      "execution_count": 130,
      "outputs": []
    },
    {
      "cell_type": "markdown",
      "metadata": {
        "id": "jL3-QOji3Xr4"
      },
      "source": [
        "Classification and prediction using **Desicion Tree** Classifier :"
      ]
    },
    {
      "cell_type": "code",
      "metadata": {
        "colab": {
          "base_uri": "https://localhost:8080/"
        },
        "id": "prEDBs-EueOj",
        "outputId": "9ef03438-15ee-4b13-9187-ff72bd2295cc"
      },
      "source": [
        "clf = DecisionTreeClassifier()\n",
        "clf.fit(train_X, train_Y)\n",
        "pred = clf.predict(test_X)\n",
        "print('Accuracy  = ',clf.score(test_X, test_Y)*100)\n"
      ],
      "execution_count": 131,
      "outputs": [
        {
          "output_type": "stream",
          "name": "stdout",
          "text": [
            "Accuracy  =  74.66666666666667\n"
          ]
        }
      ]
    },
    {
      "cell_type": "markdown",
      "metadata": {
        "id": "TzwvxqkN3qDW"
      },
      "source": [
        "That ends Our Desicion tree classifying method.\n",
        "\n",
        "Lets see the **Confusion matrix** now"
      ]
    },
    {
      "cell_type": "markdown",
      "metadata": {
        "id": "UKBi63e_35qP"
      },
      "source": [
        "Creating an array first for the formation of matrix\n"
      ]
    },
    {
      "cell_type": "code",
      "metadata": {
        "id": "kZVEEKQPZJSp"
      },
      "source": [
        "x=np.array(X)\n",
        "y=np.array(Y)"
      ],
      "execution_count": 132,
      "outputs": []
    },
    {
      "cell_type": "markdown",
      "metadata": {
        "id": "eeWOI9OI3__k"
      },
      "source": [
        "Running the matrix data"
      ]
    },
    {
      "cell_type": "code",
      "metadata": {
        "colab": {
          "base_uri": "https://localhost:8080/"
        },
        "id": "QaDGBxWgw2I2",
        "outputId": "713da3cd-3b63-4ed1-f94e-d006da7c44eb"
      },
      "source": [
        "c_matrix= confusion_matrix(test_Y,pred,labels=['L','R','B'])\n",
        "c_matrix"
      ],
      "execution_count": 133,
      "outputs": [
        {
          "output_type": "execute_result",
          "data": {
            "text/plain": [
              "array([[50,  2,  6],\n",
              "       [ 4, 62, 12],\n",
              "       [ 6,  8,  0]])"
            ]
          },
          "metadata": {},
          "execution_count": 133
        }
      ]
    },
    {
      "cell_type": "markdown",
      "metadata": {
        "id": "BUH-j_Cj4Egk"
      },
      "source": [
        "Running the appropriate test and printing the report's"
      ]
    },
    {
      "cell_type": "code",
      "metadata": {
        "colab": {
          "base_uri": "https://localhost:8080/"
        },
        "id": "29hwWvZVxoa9",
        "outputId": "e7f8327a-44df-4f8e-9df1-5fcc406dab87"
      },
      "source": [
        "matrix=classification_report(test_Y,pred,labels=['L','R','B'])\n",
        "print('classification_report: \\n',matrix)\n"
      ],
      "execution_count": 134,
      "outputs": [
        {
          "output_type": "stream",
          "name": "stdout",
          "text": [
            "classification_report: \n",
            "               precision    recall  f1-score   support\n",
            "\n",
            "           L       0.83      0.86      0.85        58\n",
            "           R       0.86      0.79      0.83        78\n",
            "           B       0.00      0.00      0.00        14\n",
            "\n",
            "    accuracy                           0.75       150\n",
            "   macro avg       0.56      0.55      0.56       150\n",
            "weighted avg       0.77      0.75      0.76       150\n",
            "\n"
          ]
        }
      ]
    }
  ]
}